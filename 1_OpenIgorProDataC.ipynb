{
 "cells": [
  {
   "cell_type": "markdown",
   "metadata": {},
   "source": [
    "# Opening and cleaning out Bin data\n",
    "\n",
    "Note: Use L1imag/formation environment.\n",
    "## Import packages"
   ]
  },
  {
   "cell_type": "code",
   "execution_count": 4,
   "metadata": {},
   "outputs": [],
   "source": [
    "import quantities as pq\n",
    "import numpy as np\n",
    "import neo\n",
    "from pathlib import Path\n",
    "import xarray as xr\n",
    "import pandas as pd\n",
    "import matplotlib.pyplot as plt\n",
    "from matplotlib.widgets import Slider, Button, Cursor\n",
    "import scipy\n",
    "from scipy import interpolate\n",
    "from scipy import fftpack\n",
    "from scipy import signal\n",
    "%matplotlib widget\n",
    "\n",
    "from ephyviewer import mkQApp, MainViewer, TraceViewer"
   ]
  },
  {
   "cell_type": "markdown",
   "metadata": {},
   "source": [
    "## Load data\n",
    "\n",
    "WARNING: Absurd here, just temporary loading to see if and how I can access the data"
   ]
  },
  {
   "cell_type": "code",
   "execution_count": 5,
   "metadata": {},
   "outputs": [],
   "source": [
    "folder = Path('.').absolute()\n",
    "\n",
    "list_raw = []\n",
    "for file_path in folder.glob('**/*.bin'):\n",
    "    recording = file_path.stem.replace('20211014_OPCA_031TR_BRstimON_Part1.nidq','1')\n",
    "    globals()[f\"DataRec_{recording}\"] = np.fromfile(file_path, dtype=\"int16\")\n",
    "    globals()[f\"DataRaw_{recording}\"] = globals()[f\"DataRec_{recording}\"].reshape(-1,12)\n",
    "    list_raw.append(f\"DataRaw_{recording}\")\n"
   ]
  },
  {
   "cell_type": "markdown",
   "metadata": {},
   "source": [
    "### Distribute channels.\n",
    "\n",
    "EMG = 0, BLA left = 1-2, BLA right = 3-4, PFC left = 5-6, PFC right = 9-10, CA1 = 7-8, TTL = 11\n",
    "\n",
    "WARNING: this has to be adjusted for every mouse. In the future, add a cell at the beginning to enter these parameters"
   ]
  },
  {
   "cell_type": "code",
   "execution_count": 6,
   "metadata": {},
   "outputs": [
    {
     "name": "stdout",
     "output_type": "stream",
     "text": [
      "37500000.0\n"
     ]
    }
   ],
   "source": [
    "list_rawchan = []\n",
    "for ele, file in enumerate(list_raw):\n",
    "    ele2 = ele + 1\n",
    "    # Distribute\n",
    "    EMG = globals()[f\"DataRaw_{ele2}\"][:,0]\n",
    "    BLAl = globals()[f\"DataRaw_{ele2}\"][:,1] - globals()[f\"DataRaw_{ele2}\"][:,2]\n",
    "    BLAr = globals()[f\"DataRaw_{ele2}\"][:,3] - globals()[f\"DataRaw_{ele2}\"][:,4]\n",
    "    PFCl = globals()[f\"DataRaw_{ele2}\"][:,5] - globals()[f\"DataRaw_{ele2}\"][:,6] \n",
    "    PFCr = globals()[f\"DataRaw_{ele2}\"][:,9] - globals()[f\"DataRaw_{ele2}\"][:,10] \n",
    "    CA1 = globals()[f\"DataRaw_{ele2}\"][:,7]- globals()[f\"DataRaw_{ele2}\"][:,8]\n",
    "    TTL = globals()[f\"DataRaw_{ele2}\"][:,11]\n",
    "    # Stack back\n",
    "    globals()[f\"Good_channels_{ele2}\"] = np.stack((EMG, BLAl, BLAr, PFCl, PFCr, CA1, TTL), axis = 1)#.reshape(-1, 4)\n",
    "    nmberchann = globals()[f\"Good_channels_{ele2}\"].shape\n",
    "    datalen = globals()[f\"Good_channels_{ele2}\"].size / nmberchann[1]\n",
    "    print(datalen)\n",
    "    coords = {\n",
    "        'brain_areas' : np.array(['EMG', \"BLAl\", \"BLAr\", \"PFCl\", \"PFCr\", \"CA1\", \"TTL\"]),\n",
    "        'duration_rec' : np.arange(0, datalen/25000, 1/25000)\n",
    "    }\n",
    "    # Put in xarray\n",
    "    globals()[f\"xrGoodChannels_{ele2}\"] = xr.DataArray(coords=coords, dims=['duration_rec', 'brain_areas'])\n",
    "    globals()[f\"xrGoodChannels_{ele2}\"].loc[:,:]  = globals()[f\"Good_channels_{ele2}\"]\n",
    "    Good_channels = globals()[f\"xrGoodChannels_{ele2}\"]\n",
    "    # Save datas\n",
    "    #np.save(f'RawDataChannelExtracted_{ele2}.npy', Good_channels)\n",
    "    list_rawchan.append(Good_channels)\n",
    "    # Empty array to free memory \n",
    "    globals()[f\"DataRaw_{ele2}\"] = None"
   ]
  },
  {
   "cell_type": "markdown",
   "metadata": {},
   "source": [
    "#  Downsample all signals to 1 kz."
   ]
  },
  {
   "cell_type": "code",
   "execution_count": 7,
   "metadata": {},
   "outputs": [
    {
     "name": "stdout",
     "output_type": "stream",
     "text": [
      "1\n",
      "37500000.0 1500000\n"
     ]
    }
   ],
   "source": [
    "\n",
    "#list_rawchan = [xrGoodChannels_1, xrGoodChannels_2]\n",
    "list_rawchan_filt = []\n",
    "for ele, file in enumerate(list_rawchan):\n",
    "    ele2 = ele + 1\n",
    "    print(ele2)\n",
    "    sampling_rate = 25000 # Hz\n",
    "    new_sampling_rate = 1000 # Hz\n",
    "    nmberchann = file.shape\n",
    "    datalen = file.size/ nmberchann[1]\n",
    "    Nmber_points = int(datalen * new_sampling_rate / sampling_rate)\n",
    "    print(datalen, Nmber_points)\n",
    "    globals()[f\"DS_GoodChannels_{ele2}\"] = signal.resample(file, Nmber_points, axis = 0)\n",
    "    Good_channels_filtered = globals()[f\"DS_GoodChannels_{ele2}\"]\n",
    "    list_rawchan_filt.append(Good_channels_filtered)\n",
    "    #np.save(f'RawDataChannelExtractedDS_{ele2}.npy', Good_channels_filtered)\n",
    "    globals()[f\"xrGoodChannels_{ele2}\"] = None\n",
    "\n",
    "list_rawchan = None"
   ]
  },
  {
   "cell_type": "markdown",
   "metadata": {},
   "source": [
    "## Filtering \n",
    "\n",
    "SWR: 120 - 200 Hz"
   ]
  },
  {
   "cell_type": "code",
   "execution_count": 10,
   "metadata": {},
   "outputs": [
    {
     "name": "stdout",
     "output_type": "stream",
     "text": [
      "[0.24, 0.4]\n"
     ]
    }
   ],
   "source": [
    "Sample = DS_GoodChannels_1\n",
    "\n",
    "f_CA1 = Sample[:, 5].copy()\n",
    "\n",
    "# Paramètres de notre filtre :\n",
    "f_lowcut = 120.\n",
    "f_hicut = 200.\n",
    "fs = new_sampling_rate\n",
    "nyq = 0.5 * fs\n",
    "N = 6                 # Ordre du filtre\n",
    "Wn = [f_lowcut/nyq,f_hicut/nyq]  # Nyquist frequency fraction\n",
    "print(Wn)\n",
    "\n",
    "# Création du filtre :\n",
    "b, a = scipy.signal.butter(N, Wn, 'band')\n",
    "filt_SWR_CA1 = scipy.signal.filtfilt(b, a, f_CA1)\n",
    "\n",
    "times = np.arange(0, f_CA1.size/new_sampling_rate, 1./new_sampling_rate)"
   ]
  },
  {
   "cell_type": "markdown",
   "metadata": {},
   "source": [
    "# Display. \n",
    "\n",
    "with Open Ephys viewer"
   ]
  },
  {
   "cell_type": "code",
   "execution_count": 15,
   "metadata": {},
   "outputs": [],
   "source": [
    "# prepare numpy array for ephyviewer\n",
    "Sample2 = Sample[:, :6]\n",
    "filt_SWR_CA1_2= filt_SWR_CA1[:, np.newaxis]\n",
    "combined2 = np.append(Sample2, filt_SWR_CA1_2, axis=1)\n"
   ]
  },
  {
   "cell_type": "code",
   "execution_count": 21,
   "metadata": {},
   "outputs": [
    {
     "data": {
      "text/plain": [
       "0"
      ]
     },
     "execution_count": 21,
     "metadata": {},
     "output_type": "execute_result"
    }
   ],
   "source": [
    "app = mkQApp()\n",
    "\n",
    "\n",
    "sample_rate = 1000.\n",
    "t_start = 0.\n",
    "\n",
    "#Create the main window that can contain several viewers\n",
    "win = MainViewer()\n",
    "view1 = TraceViewer.from_numpy(combined2, sample_rate, t_start, 'Signals')\n",
    "win.add_view(view1)\n",
    "\n",
    "#Parameters can be set in script\n",
    "#view1.params['scale_mode'] = 'same_for_all'\n",
    "view1.params['display_labels'] = True\n",
    "#And also parameters for each channel\n",
    "view1.by_channel_params['ch0', 'color'] = '#aa0000'\n",
    "view1.by_channel_params['ch1', 'color'] = '#0055ff'\n",
    "view1.by_channel_params['ch2', 'color'] = '#0055ff'\n",
    "view1.by_channel_params['ch5', 'color'] = '#ff5500'\n",
    "view1.by_channel_params['ch6', 'color'] = '#ff5500'\n",
    "\n",
    "view1.by_channel_params['ch0', 'gain'] = 0.00005\n",
    "view1.by_channel_params['ch1', 'gain'] = 0.0002\n",
    "view1.by_channel_params['ch2', 'gain'] = 0.0004\n",
    "view1.by_channel_params['ch3', 'gain'] = 0.0005\n",
    "view1.by_channel_params['ch4', 'gain'] = 0.0001\n",
    "view1.by_channel_params['ch5', 'gain'] = 0.00005\n",
    "view1.by_channel_params['ch6', 'gain'] = 0.0001\n",
    "\n",
    "view1.by_channel_params['ch0', 'offset'] = 0.3\n",
    "view1.by_channel_params['ch1', 'offset'] = 0.2\n",
    "view1.by_channel_params['ch2', 'offset'] = 0.05\n",
    "view1.by_channel_params['ch3', 'offset'] = -0.12\n",
    "view1.by_channel_params['ch4', 'offset'] = -0.1\n",
    "view1.by_channel_params['ch5', 'offset'] = -0.2\n",
    "view1.by_channel_params['ch6', 'offset'] = -0.28\n",
    "\n",
    "#Run\n",
    "win.show()\n",
    "app.exec_()"
   ]
  }
 ],
 "metadata": {
  "interpreter": {
   "hash": "984d3fbee8ffa490637705ae3d7233e001ab0304f3daaca07b5aa8569b88ca53"
  },
  "kernelspec": {
   "display_name": "Python 3.9.12 ('formation')",
   "language": "python",
   "name": "python3"
  },
  "language_info": {
   "codemirror_mode": {
    "name": "ipython",
    "version": 3
   },
   "file_extension": ".py",
   "mimetype": "text/x-python",
   "name": "python",
   "nbconvert_exporter": "python",
   "pygments_lexer": "ipython3",
   "version": "3.9.12"
  },
  "orig_nbformat": 4
 },
 "nbformat": 4,
 "nbformat_minor": 2
}
