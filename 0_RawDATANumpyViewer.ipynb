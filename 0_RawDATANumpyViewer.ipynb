{
 "cells": [
  {
   "cell_type": "markdown",
   "metadata": {},
   "source": [
    "# This is just a notebook to visualise 1kHz filtered raw data"
   ]
  },
  {
   "cell_type": "code",
   "execution_count": 1,
   "metadata": {},
   "outputs": [],
   "source": [
    "import quantities as pq\n",
    "import numpy as np\n",
    "import neo\n",
    "from pathlib import Path\n",
    "import xarray as xr\n",
    "import pandas as pd\n",
    "import matplotlib.pyplot as plt\n",
    "from matplotlib.widgets import Slider, Button, Cursor\n",
    "import scipy\n",
    "from scipy import interpolate\n",
    "from scipy import fftpack\n",
    "from scipy import signal\n",
    "%matplotlib widget\n",
    "\n",
    "from ephyviewer import mkQApp, MainViewer, TraceViewer"
   ]
  },
  {
   "cell_type": "markdown",
   "metadata": {},
   "source": [
    "Load RawDataChannelExtractedDS.npy"
   ]
  },
  {
   "cell_type": "code",
   "execution_count": 15,
   "metadata": {},
   "outputs": [],
   "source": [
    "#folder_base = Path('Gaelle/DOR/BlueDots/HabD2/Rec1/OpenEphys/')\n",
    "folder_base = Path('Gaelle/Baseline_recording/GreenLinesOK/session2/OpenEphys/')\n",
    "\n",
    "\n",
    "filename = folder_base / f'LFPwake0.npy'\n",
    "filename2 = folder_base / f'RawDataChannelExtractedDS.npy'\n",
    "\n",
    "All = np.load(filename, mmap_mode= 'r')\n",
    "All0 = np.load(filename2, mmap_mode= 'r')"
   ]
  },
  {
   "cell_type": "code",
   "execution_count": 16,
   "metadata": {},
   "outputs": [],
   "source": [
    "EMG = All[:, 11]\n",
    "PFC1 = All[:, 22]\n",
    "PFC2 = All[:, 23]\n",
    "PFC = PFC2 - PFC1\n",
    "S11 = All[:, 18]\n",
    "S12 = All[:, 19]\n",
    "S1 = S12 - S11\n",
    "CA11 = All[:, 13]\n",
    "CA12 = All[:, 15]\n",
    "CA13 = All[:, 31]\n",
    "CA1 = CA12 - CA11\n",
    "#CA1b = CA13 - CA11\n",
    "#CA1c = CA13 - CA12\n",
    "\n"
   ]
  },
  {
   "cell_type": "markdown",
   "metadata": {},
   "source": [
    "Visualise All"
   ]
  },
  {
   "cell_type": "code",
   "execution_count": 17,
   "metadata": {},
   "outputs": [],
   "source": [
    "start = 000000\n",
    "end = len(EMG)\n",
    "EMGs = EMG[start:end, np.newaxis]\n",
    "PFC1s = PFC1[start:end, np.newaxis]\n",
    "PFC2s = PFC2[start:end, np.newaxis]\n",
    "PFCs = PFC[start:end, np.newaxis]\n",
    "S11s = S11[start:end, np.newaxis]\n",
    "S12s = S12[start:end, np.newaxis]\n",
    "S1s = S1[start:end, np.newaxis]\n",
    "CA11s = CA11[start:end, np.newaxis]\n",
    "CA12s = CA12[start:end, np.newaxis]\n",
    "#CA13s = CA13[start:end, np.newaxis]\n",
    "CA1s = CA1[start:end, np.newaxis]\n",
    "#CA1s2 = CA1b[start:end, np.newaxis]\n",
    "#CA1s3 = CA1c[start:end, np.newaxis]\n",
    "combined = np.append(EMGs, PFC1s, axis=1)\n",
    "combined = np.append(combined, PFC2s, axis=1)\n",
    "combined = np.append(combined, PFCs, axis=1)\n",
    "combined = np.append(combined, S12s, axis=1)\n",
    "combined = np.append(combined, S11s, axis=1)\n",
    "combined = np.append(combined, S1s, axis=1)\n",
    "combined = np.append(combined, CA11s, axis=1)\n",
    "combined = np.append(combined, CA12s, axis=1)\n",
    "combined = np.append(combined, CA1s, axis=1)\n"
   ]
  },
  {
   "cell_type": "code",
   "execution_count": 19,
   "metadata": {},
   "outputs": [
    {
     "data": {
      "text/plain": [
       "0"
      ]
     },
     "execution_count": 19,
     "metadata": {},
     "output_type": "execute_result"
    }
   ],
   "source": [
    "app = mkQApp()\n",
    "\n",
    "\n",
    "sample_rate = 1000.\n",
    "t_start = 0.\n",
    "\n",
    "#Create the main window that can contain several viewers\n",
    "win = MainViewer()\n",
    "view1 = TraceViewer.from_numpy(combined, sample_rate, t_start, 'Signals')\n",
    "win.add_view(view1)\n",
    "\n",
    "#Parameters can be set in script\n",
    "#view1.params['scale_mode'] = 'same_for_all'\n",
    "view1.params['display_labels'] = True\n",
    "#And also parameters for each channel\n",
    "view1.by_channel_params['ch0', 'color'] = '#aa0000'\n",
    "view1.by_channel_params['ch1', 'color'] = '#0055ff'\n",
    "view1.by_channel_params['ch2', 'color'] = '#0055ff'\n",
    "view1.by_channel_params['ch4', 'color'] = '#ff5500'\n",
    "view1.by_channel_params['ch5', 'color'] = '#ff5500'\n",
    "view1.by_channel_params['ch7', 'color'] = '#9b3b70'\n",
    "view1.by_channel_params['ch8', 'color'] = '#9b3b70'\n",
    "#view1.by_channel_params['ch9', 'color'] = '#9b3b70'\n",
    "\n",
    "\n",
    "\n",
    "view1.by_channel_params['ch0', 'gain'] = 0.00002\n",
    "view1.by_channel_params['ch1', 'gain'] = 0.00002\n",
    "view1.by_channel_params['ch2', 'gain'] = 0.00002\n",
    "view1.by_channel_params['ch3', 'gain'] = 0.00006\n",
    "view1.by_channel_params['ch4', 'gain'] = 0.00002\n",
    "view1.by_channel_params['ch5', 'gain'] = 0.00002\n",
    "view1.by_channel_params['ch6', 'gain'] = 0.00003\n",
    "view1.by_channel_params['ch7', 'gain'] = 0.00002\n",
    "view1.by_channel_params['ch8', 'gain'] = 0.00002\n",
    "view1.by_channel_params['ch9', 'gain'] = 0.00002\n",
    "\n",
    "view1.by_channel_params['ch0', 'offset'] = 0.5\n",
    "view1.by_channel_params['ch1', 'offset'] = 0.4\n",
    "view1.by_channel_params['ch2', 'offset'] = 0.3\n",
    "view1.by_channel_params['ch3', 'offset'] = 0.2\n",
    "view1.by_channel_params['ch4', 'offset'] = 0.1\n",
    "view1.by_channel_params['ch5', 'offset'] = 0\n",
    "view1.by_channel_params['ch6', 'offset'] = -0.1\n",
    "view1.by_channel_params['ch7', 'offset'] = -0.2\n",
    "view1.by_channel_params['ch8', 'offset'] = -0.3\n",
    "view1.by_channel_params['ch9', 'offset'] = -0.4\n",
    "\n",
    "#Run\n",
    "win.show()\n",
    "app.exec_()"
   ]
  },
  {
   "cell_type": "code",
   "execution_count": 132,
   "metadata": {},
   "outputs": [
    {
     "name": "stdout",
     "output_type": "stream",
     "text": [
      "2733405\n"
     ]
    },
    {
     "ename": "",
     "evalue": "",
     "output_type": "error",
     "traceback": [
      "\u001b[1;31mThe Kernel crashed while executing code in the the current cell or a previous cell. Please review the code in the cell(s) to identify a possible cause of the failure. Click <a href='https://aka.ms/vscodeJupyterKernelCrash'>here</a> for more info. View Jupyter <a href='command:jupyter.viewOutput'>log</a> for further details."
     ]
    }
   ],
   "source": [
    "print(len(EMG))"
   ]
  },
  {
   "cell_type": "markdown",
   "metadata": {},
   "source": [
    "Visualise subset"
   ]
  },
  {
   "cell_type": "code",
   "execution_count": 10,
   "metadata": {},
   "outputs": [
    {
     "ename": "NameError",
     "evalue": "name 'CA13s' is not defined",
     "output_type": "error",
     "traceback": [
      "\u001b[0;31m---------------------------------------------------------------------------\u001b[0m",
      "\u001b[0;31mNameError\u001b[0m                                 Traceback (most recent call last)",
      "\u001b[1;32m/Users/ahay/Documents/DATA/L1imaging/0_RawDATANumpyViewer.ipynb Cell 11\u001b[0m in \u001b[0;36m<cell line: 12>\u001b[0;34m()\u001b[0m\n\u001b[1;32m      <a href='vscode-notebook-cell:/Users/ahay/Documents/DATA/L1imaging/0_RawDATANumpyViewer.ipynb#X13sZmlsZQ%3D%3D?line=3'>4</a>\u001b[0m \u001b[39m#combined = np.append(combined, PFC2s, axis=1)\u001b[39;00m\n\u001b[1;32m      <a href='vscode-notebook-cell:/Users/ahay/Documents/DATA/L1imaging/0_RawDATANumpyViewer.ipynb#X13sZmlsZQ%3D%3D?line=4'>5</a>\u001b[0m \u001b[39m#combined = np.append(combined, PFCs, axis=1)\u001b[39;00m\n\u001b[1;32m      <a href='vscode-notebook-cell:/Users/ahay/Documents/DATA/L1imaging/0_RawDATANumpyViewer.ipynb#X13sZmlsZQ%3D%3D?line=5'>6</a>\u001b[0m \u001b[39m#combined = np.append(combined, S12s, axis=1)\u001b[39;00m\n\u001b[0;32m   (...)\u001b[0m\n\u001b[1;32m      <a href='vscode-notebook-cell:/Users/ahay/Documents/DATA/L1imaging/0_RawDATANumpyViewer.ipynb#X13sZmlsZQ%3D%3D?line=8'>9</a>\u001b[0m \u001b[39m#combined = np.append(combined, S1s, axis=1)\u001b[39;00m\n\u001b[1;32m     <a href='vscode-notebook-cell:/Users/ahay/Documents/DATA/L1imaging/0_RawDATANumpyViewer.ipynb#X13sZmlsZQ%3D%3D?line=9'>10</a>\u001b[0m \u001b[39m#combined = np.append(combined, CA11s, axis=1)\u001b[39;00m\n\u001b[1;32m     <a href='vscode-notebook-cell:/Users/ahay/Documents/DATA/L1imaging/0_RawDATANumpyViewer.ipynb#X13sZmlsZQ%3D%3D?line=10'>11</a>\u001b[0m combined \u001b[39m=\u001b[39m np\u001b[39m.\u001b[39mappend(combined, CA12s, axis\u001b[39m=\u001b[39m\u001b[39m1\u001b[39m)\n\u001b[0;32m---> <a href='vscode-notebook-cell:/Users/ahay/Documents/DATA/L1imaging/0_RawDATANumpyViewer.ipynb#X13sZmlsZQ%3D%3D?line=11'>12</a>\u001b[0m combined \u001b[39m=\u001b[39m np\u001b[39m.\u001b[39mappend(combined, CA13s, axis\u001b[39m=\u001b[39m\u001b[39m1\u001b[39m)\n\u001b[1;32m     <a href='vscode-notebook-cell:/Users/ahay/Documents/DATA/L1imaging/0_RawDATANumpyViewer.ipynb#X13sZmlsZQ%3D%3D?line=12'>13</a>\u001b[0m combined \u001b[39m=\u001b[39m np\u001b[39m.\u001b[39mappend(combined, CA1s, axis\u001b[39m=\u001b[39m\u001b[39m1\u001b[39m) \u001b[39m#CA12 - CA11\u001b[39;00m\n\u001b[1;32m     <a href='vscode-notebook-cell:/Users/ahay/Documents/DATA/L1imaging/0_RawDATANumpyViewer.ipynb#X13sZmlsZQ%3D%3D?line=13'>14</a>\u001b[0m combined \u001b[39m=\u001b[39m np\u001b[39m.\u001b[39mappend(combined, CA1s2, axis\u001b[39m=\u001b[39m\u001b[39m1\u001b[39m) \u001b[39m#CA13 - CA11\u001b[39;00m\n",
      "\u001b[0;31mNameError\u001b[0m: name 'CA13s' is not defined"
     ]
    }
   ],
   "source": [
    "\n",
    "start = 000000\n",
    "end = len(EMG)\n",
    "combined = np.append(EMGs, CA11s, axis=1)\n",
    "#combined = np.append(combined, PFC2s, axis=1)\n",
    "#combined = np.append(combined, PFCs, axis=1)\n",
    "#combined = np.append(combined, S12s, axis=1)\n",
    "#combined = np.append(combined, S11s, axis=1)\n",
    "#combined = np.append(combined, S1s, axis=1)\n",
    "#combined = np.append(combined, S1s, axis=1)\n",
    "#combined = np.append(combined, CA11s, axis=1)\n",
    "combined = np.append(combined, CA12s, axis=1)\n",
    "combined = np.append(combined, CA13s, axis=1)\n",
    "combined = np.append(combined, CA1s, axis=1) #CA12 - CA11\n",
    "combined = np.append(combined, CA1s2, axis=1) #CA13 - CA11\n",
    "combined = np.append(combined, CA1s3, axis=1) #CA13 - CA12\n",
    "app = mkQApp()\n",
    "\n",
    "\n",
    "sample_rate = 1000.\n",
    "t_start = 0.\n",
    "\n",
    "#Create the main window that can contain several viewers\n",
    "win = MainViewer()\n",
    "view1 = TraceViewer.from_numpy(combined, sample_rate, t_start, 'Signals')\n",
    "win.add_view(view1)\n",
    "\n",
    "#Parameters can be set in script\n",
    "#view1.params['scale_mode'] = 'same_for_all'\n",
    "view1.params['display_labels'] = True\n",
    "#And also parameters for each channel\n",
    "view1.by_channel_params['ch0', 'color'] = '#aa0000'\n",
    "view1.by_channel_params['ch1', 'color'] = '#9b3b70'\n",
    "#view1.by_channel_params['ch2', 'color'] = '#0055ff'\n",
    "#view1.by_channel_params['ch5', 'color'] = '#ff5500'\n",
    "view1.by_channel_params['ch2', 'color'] = '#9b3b70'\n",
    "#view1.by_channel_params['ch3', 'color'] = '#9b3b70'\n",
    "view1.by_channel_params['ch3', 'color'] = '#9b3b70'\n",
    "#view1.by_channel_params['ch4', 'color'] = '#9b3b70'\n",
    "\n",
    "\n",
    "\n",
    "view1.by_channel_params['ch0', 'gain'] = 0.00002\n",
    "view1.by_channel_params['ch1', 'gain'] = 0.00001\n",
    "view1.by_channel_params['ch2', 'gain'] = 0.00001\n",
    "view1.by_channel_params['ch3', 'gain'] = 0.00001\n",
    "view1.by_channel_params['ch4', 'gain'] = 0.00002\n",
    "view1.by_channel_params['ch5', 'gain'] = 0.00002\n",
    "#view1.by_channel_params['ch5', 'gain'] = 0.00003\n",
    "view1.by_channel_params['ch6', 'gain'] = 0.00002\n",
    "# view1.by_channel_params['ch7', 'gain'] = 0.00001\n",
    "# view1.by_channel_params['ch8', 'gain'] = 0.00001\n",
    "# view1.by_channel_params['ch9', 'gain'] = 0.00005\n",
    "\n",
    "view1.by_channel_params['ch0', 'offset'] = 0.3\n",
    "view1.by_channel_params['ch1', 'offset'] = 0.2\n",
    "view1.by_channel_params['ch2', 'offset'] = 0.1\n",
    "view1.by_channel_params['ch3', 'offset'] = -0.\n",
    "view1.by_channel_params['ch4', 'offset'] = -0.1\n",
    "view1.by_channel_params['ch5', 'offset'] = -0.2\n",
    "#view1.by_channel_params['ch5', 'offset'] = -0.2\n",
    "view1.by_channel_params['ch6', 'offset'] = -0.3\n",
    "# view1.by_channel_params['ch7', 'offset'] = -0.2\n",
    "# view1.by_channel_params['ch8', 'offset'] = -0.3\n",
    "# view1.by_channel_params['ch9', 'offset'] = -0.4\n",
    "\n",
    "#Run\n",
    "win.show()\n",
    "app.exec_()"
   ]
  },
  {
   "cell_type": "code",
   "execution_count": 25,
   "metadata": {},
   "outputs": [
    {
     "data": {
      "text/plain": [
       "(910224, 16)"
      ]
     },
     "execution_count": 25,
     "metadata": {},
     "output_type": "execute_result"
    }
   ],
   "source": [
    "folder_base = Path('Gaelle/Baseline_recording/GreenLinesOK/session3/OpenEphys/')\n",
    "\n",
    "\n",
    "filename = folder_base / f'LFPwake0.npy'\n",
    "filename2 = folder_base / f'RawDataChannelExtractedDS.npy'\n",
    "\n",
    "All = np.load(filename2, mmap_mode= 'r')\n",
    "All0 = np.load(filename, mmap_mode= 'r')\n",
    "\n",
    "combined0 = All[:,24:32].copy()\n",
    "combined1 = All0[:,0:8].copy()\n",
    "combined2 = np.append(combined0, combined1, axis=1)\n",
    "combined2.shape\n",
    "# Rec2 (916030, 16)"
   ]
  },
  {
   "cell_type": "code",
   "execution_count": 26,
   "metadata": {},
   "outputs": [
    {
     "data": {
      "text/plain": [
       "0"
      ]
     },
     "execution_count": 26,
     "metadata": {},
     "output_type": "execute_result"
    }
   ],
   "source": [
    "app = mkQApp()\n",
    "\n",
    "\n",
    "sample_rate = 1000.\n",
    "t_start = 0.\n",
    "\n",
    "#Create the main window that can contain several viewers\n",
    "win = MainViewer()\n",
    "view1 = TraceViewer.from_numpy(combined2, sample_rate, t_start, 'Signals')\n",
    "win.add_view(view1)\n",
    "\n",
    "#Parameters can be set in script\n",
    "#view1.params['scale_mode'] = 'same_for_all'\n",
    "view1.params['display_labels'] = True\n",
    "#And also parameters for each channel\n",
    "\n",
    "view1.by_channel_params['ch0', 'gain'] = 0.00002\n",
    "view1.by_channel_params['ch1', 'gain'] = 0.00002\n",
    "view1.by_channel_params['ch2', 'gain'] = 0.00002\n",
    "view1.by_channel_params['ch3', 'gain'] = 0.00002\n",
    "view1.by_channel_params['ch4', 'gain'] = 0.00002\n",
    "view1.by_channel_params['ch5', 'gain'] = 0.00002\n",
    "view1.by_channel_params['ch6', 'gain'] = 0.00002\n",
    "view1.by_channel_params['ch7', 'gain'] = 0.00002\n",
    "view1.by_channel_params['ch8', 'gain'] = 0.00002\n",
    "view1.by_channel_params['ch9', 'gain'] = 0.00002\n",
    "view1.by_channel_params['ch10', 'gain'] = 0.00002\n",
    "view1.by_channel_params['ch11', 'gain'] = 0.00002\n",
    "view1.by_channel_params['ch12', 'gain'] = 0.00002\n",
    "view1.by_channel_params['ch13', 'gain'] = 0.00002\n",
    "view1.by_channel_params['ch14', 'gain'] = 0.00002\n",
    "view1.by_channel_params['ch15', 'gain'] = 0.00002\n",
    "\n",
    "view1.by_channel_params['ch0', 'offset'] = 0.8\n",
    "view1.by_channel_params['ch1', 'offset'] = 0.7\n",
    "view1.by_channel_params['ch2', 'offset'] = 0.6\n",
    "view1.by_channel_params['ch3', 'offset'] = 0.5\n",
    "view1.by_channel_params['ch4', 'offset'] = 0.4\n",
    "view1.by_channel_params['ch5', 'offset'] = 0.3\n",
    "view1.by_channel_params['ch6', 'offset'] = 0.2\n",
    "view1.by_channel_params['ch7', 'offset'] = 0.1\n",
    "view1.by_channel_params['ch8', 'offset'] = 0.\n",
    "view1.by_channel_params['ch9', 'offset'] = -0.1\n",
    "view1.by_channel_params['ch10', 'offset'] = -0.2\n",
    "view1.by_channel_params['ch11', 'offset'] = -0.3\n",
    "view1.by_channel_params['ch12', 'offset'] = -0.4\n",
    "view1.by_channel_params['ch13', 'offset'] = -0.5\n",
    "view1.by_channel_params['ch14', 'offset'] = -0.6\n",
    "view1.by_channel_params['ch15', 'offset'] = -0.7\n",
    "\n",
    "view1.by_channel_params['ch0', 'color'] = '#0055ff'\n",
    "view1.by_channel_params['ch1', 'color'] = '#0055ff'\n",
    "view1.by_channel_params['ch2', 'color'] = '#0055ff'\n",
    "view1.by_channel_params['ch3', 'color'] = '#0055ff'\n",
    "view1.by_channel_params['ch4', 'color'] = '#0055ff'\n",
    "view1.by_channel_params['ch5', 'color'] = '#0055ff'\n",
    "view1.by_channel_params['ch6', 'color'] = '#0055ff'\n",
    "view1.by_channel_params['ch7', 'color'] = '#0055ff'\n",
    "\n",
    "#Run\n",
    "win.show()\n",
    "app.exec_()\n"
   ]
  }
 ],
 "metadata": {
  "kernelspec": {
   "display_name": "Python 3.9.12 ('formation')",
   "language": "python",
   "name": "python3"
  },
  "language_info": {
   "codemirror_mode": {
    "name": "ipython",
    "version": 3
   },
   "file_extension": ".py",
   "mimetype": "text/x-python",
   "name": "python",
   "nbconvert_exporter": "python",
   "pygments_lexer": "ipython3",
   "version": "3.9.12 | packaged by conda-forge | (main, Mar 24 2022, 23:27:05) \n[Clang 12.0.1 ]"
  },
  "orig_nbformat": 4,
  "vscode": {
   "interpreter": {
    "hash": "984d3fbee8ffa490637705ae3d7233e001ab0304f3daaca07b5aa8569b88ca53"
   }
  }
 },
 "nbformat": 4,
 "nbformat_minor": 2
}
